{
  "nbformat": 4,
  "nbformat_minor": 0,
  "metadata": {
    "colab": {
      "provenance": [],
      "collapsed_sections": [],
      "mount_file_id": "1zOWlZqUpg79dGRNXN4tDsEtkAPckzVCo",
      "authorship_tag": "ABX9TyOCvvAWMv5j1qq/Y8bU+BXd",
      "include_colab_link": true
    },
    "kernelspec": {
      "name": "python3",
      "display_name": "Python 3"
    },
    "language_info": {
      "name": "python"
    }
  },
  "cells": [
    {
      "cell_type": "markdown",
      "metadata": {
        "id": "view-in-github",
        "colab_type": "text"
      },
      "source": [
        "<a href=\"https://colab.research.google.com/github/jablka/ColabGists/blob/main/Pillow_example.ipynb\" target=\"_parent\"><img src=\"https://colab.research.google.com/assets/colab-badge.svg\" alt=\"Open In Colab\"/></a>"
      ]
    },
    {
      "cell_type": "code",
      "execution_count": 45,
      "metadata": {
        "id": "ltzzoQ_kdcxY"
      },
      "outputs": [],
      "source": [
        "import PIL"
      ]
    },
    {
      "cell_type": "code",
      "source": [
        "# načítame obrázok\n",
        "obr = PIL.Image.open(\"/content/drive/MyDrive/Colab Notebooks/image/stick_man.jpg\")\n",
        "obr.size"
      ],
      "metadata": {
        "id": "HonLucppfU0_",
        "colab": {
          "base_uri": "https://localhost:8080/"
        },
        "outputId": "ee0bf480-da97-4fdb-9881-b63d055af588"
      },
      "execution_count": 48,
      "outputs": [
        {
          "output_type": "execute_result",
          "data": {
            "text/plain": [
              "(238, 425)"
            ]
          },
          "metadata": {},
          "execution_count": 48
        }
      ]
    },
    {
      "cell_type": "code",
      "source": [
        "# zmenšíme rozmery\n",
        "size = ((obr.size[0]//3), (obr.size[1]//3)) \n",
        "obr = obr.resize(size)\n",
        "obr.size"
      ],
      "metadata": {
        "id": "JCiRAclqhBtQ",
        "colab": {
          "base_uri": "https://localhost:8080/"
        },
        "outputId": "e0cd5c4e-b1f4-402f-fada-046120f443fc"
      },
      "execution_count": 49,
      "outputs": [
        {
          "output_type": "execute_result",
          "data": {
            "text/plain": [
              "(79, 141)"
            ]
          },
          "metadata": {},
          "execution_count": 49
        }
      ]
    },
    {
      "cell_type": "code",
      "source": [
        "# zobrazíme\n",
        "obr "
      ],
      "metadata": {
        "colab": {
          "base_uri": "https://localhost:8080/",
          "height": 158
        },
        "id": "fzMUpagRf9_A",
        "outputId": "ba938e18-0909-4017-8c99-7d77f4c6920e"
      },
      "execution_count": 50,
      "outputs": [
        {
          "output_type": "execute_result",
          "data": {
            "text/plain": [
              "<PIL.Image.Image image mode=RGB size=79x141 at 0x7F86CE4FF850>"
            ],
            "image/png": "[encoded data removed]"
          },
          "metadata": {},
          "execution_count": 50
        }
      ]
    },
    {
      "cell_type": "code",
      "source": [
        "# otočíme\n",
        "obr.rotate(40)"
      ],
      "metadata": {
        "colab": {
          "base_uri": "https://localhost:8080/",
          "height": 158
        },
        "id": "4-s7enwLheaX",
        "outputId": "efc33812-5823-4e9a-f71c-f25f69c9c65e"
      },
      "execution_count": 51,
      "outputs": [
        {
          "output_type": "execute_result",
          "data": {
            "text/plain": [
              "<PIL.Image.Image image mode=RGB size=79x141 at 0x7F86D64E8490>"
            ],
            "image/png": "[encoded data removed]"
          },
          "metadata": {},
          "execution_count": 51
        }
      ]
    }
  ]
}