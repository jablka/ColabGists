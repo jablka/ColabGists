{
 "cells": [
  {
   "cell_type": "code",
   "execution_count": 1,
   "metadata": {},
   "outputs": [
    {
     "name": "stdout",
     "output_type": "stream",
     "text": [
      "4\n",
      "3\n",
      "2\n",
      "1\n",
      "Done\n"
     ]
    }
   ],
   "source": [
    "def countDown(x):\n",
    "    if x==0:\n",
    "        print(\"Done\")\n",
    "        return\n",
    "    else:\n",
    "        print(x)\n",
    "        countDown(x-1)\n",
    "        \n",
    "countDown(4)"
   ]
  },
  {
   "cell_type": "markdown",
   "metadata": {},
   "source": [
    "# foo"
   ]
  },
  {
   "cell_type": "code",
   "execution_count": 2,
   "metadata": {},
   "outputs": [
    {
     "name": "stdout",
     "output_type": "stream",
     "text": [
      "4\n",
      "3\n",
      "2\n",
      "1\n",
      "Done\n",
      "foo\n",
      "foo\n",
      "foo\n",
      "foo\n"
     ]
    }
   ],
   "source": [
    "def countDown(x):\n",
    "    if x==0:\n",
    "        print(\"Done\")\n",
    "        return\n",
    "    else:\n",
    "        print(x)\n",
    "        countDown(x-1)\n",
    "        print(\"foo\")\n",
    "        \n",
    "countDown(4)"
   ]
  },
  {
   "cell_type": "markdown",
   "metadata": {},
   "source": [
    "# counter, error"
   ]
  },
  {
   "cell_type": "code",
   "execution_count": 10,
   "metadata": {},
   "outputs": [
    {
     "name": "stdout",
     "output_type": "stream",
     "text": [
      "4\n"
     ]
    },
    {
     "ename": "UnboundLocalError",
     "evalue": "local variable 'c' referenced before assignment",
     "output_type": "error",
     "traceback": [
      "\u001b[1;31m---------------------------------------------------------------------------\u001b[0m",
      "\u001b[1;31mUnboundLocalError\u001b[0m                         Traceback (most recent call last)",
      "Cell \u001b[1;32mIn [10], line 12\u001b[0m\n\u001b[0;32m      9\u001b[0m         countDown(x\u001b[39m-\u001b[39m\u001b[39m1\u001b[39m)\n\u001b[0;32m     10\u001b[0m         \u001b[39mprint\u001b[39m(c)\n\u001b[1;32m---> 12\u001b[0m countDown(\u001b[39m4\u001b[39;49m)\n",
      "Cell \u001b[1;32mIn [10], line 8\u001b[0m, in \u001b[0;36mcountDown\u001b[1;34m(x)\u001b[0m\n\u001b[0;32m      6\u001b[0m \u001b[39melse\u001b[39;00m:\n\u001b[0;32m      7\u001b[0m     \u001b[39mprint\u001b[39m(x)\n\u001b[1;32m----> 8\u001b[0m     c\u001b[39m=\u001b[39mc\u001b[39m+\u001b[39m\u001b[39m1\u001b[39m\n\u001b[0;32m      9\u001b[0m     countDown(x\u001b[39m-\u001b[39m\u001b[39m1\u001b[39m)\n\u001b[0;32m     10\u001b[0m     \u001b[39mprint\u001b[39m(c)\n",
      "\u001b[1;31mUnboundLocalError\u001b[0m: local variable 'c' referenced before assignment"
     ]
    }
   ],
   "source": [
    "c = 0\n",
    "def countDown(x):\n",
    "    if x==0:\n",
    "        print(\"Done\")\n",
    "        return\n",
    "    else:\n",
    "        print(x)\n",
    "        c=c+1\n",
    "        countDown(x-1)\n",
    "        print(c)\n",
    "        \n",
    "countDown(4)"
   ]
  },
  {
   "cell_type": "code",
   "execution_count": 12,
   "metadata": {},
   "outputs": [
    {
     "name": "stdout",
     "output_type": "stream",
     "text": [
      "4\n",
      "3\n",
      "2\n",
      "1\n",
      "Done\n",
      "0\n",
      "0\n",
      "0\n",
      "0\n"
     ]
    }
   ],
   "source": [
    "c = 0\n",
    "def countDown(x):\n",
    "    if x==0:\n",
    "        print(\"Done\")\n",
    "        return\n",
    "    else:\n",
    "        print(x)\n",
    "        # c=c+1\n",
    "        countDown(x-1)\n",
    "        print(c)\n",
    "        \n",
    "countDown(4)"
   ]
  },
  {
   "cell_type": "markdown",
   "metadata": {},
   "source": [
    "# nonlocal, error"
   ]
  },
  {
   "cell_type": "code",
   "execution_count": 11,
   "metadata": {},
   "outputs": [
    {
     "ename": "SyntaxError",
     "evalue": "no binding for nonlocal 'c' found (1941572091.py, line 8)",
     "output_type": "error",
     "traceback": [
      "\u001b[1;36m  Cell \u001b[1;32mIn [11], line 8\u001b[1;36m\u001b[0m\n\u001b[1;33m    nonlocal c\u001b[0m\n\u001b[1;37m    ^\u001b[0m\n\u001b[1;31mSyntaxError\u001b[0m\u001b[1;31m:\u001b[0m no binding for nonlocal 'c' found\n"
     ]
    }
   ],
   "source": [
    "c = 0\n",
    "def countDown(x):\n",
    "    if x==0:\n",
    "        print(\"Done\")\n",
    "        return\n",
    "    else:\n",
    "        print(x)\n",
    "        nonlocal m\n",
    "        c=c+1\n",
    "        countDown(x-1)\n",
    "        print(c)\n",
    "        \n",
    "countDown(4)"
   ]
  }
 ],
 "metadata": {
  "kernelspec": {
   "display_name": "Python 3.10.7 64-bit",
   "language": "python",
   "name": "python3"
  },
  "language_info": {
   "codemirror_mode": {
    "name": "ipython",
    "version": 3
   },
   "file_extension": ".py",
   "mimetype": "text/x-python",
   "name": "python",
   "nbconvert_exporter": "python",
   "pygments_lexer": "ipython3",
   "version": "3.10.7"
  },
  "orig_nbformat": 4,
  "vscode": {
   "interpreter": {
    "hash": "52634da84371cba311ea128a5ea7cdc41ff074b781779e754b270ff9f8153cee"
   }
  }
 },
 "nbformat": 4,
 "nbformat_minor": 2
}
